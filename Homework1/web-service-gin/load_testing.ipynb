{
 "cells": [
  {
   "cell_type": "code",
   "execution_count": null,
   "id": "3f21ee64",
   "metadata": {},
   "outputs": [
    {
     "ename": "",
     "evalue": "",
     "output_type": "error",
     "traceback": [
      "\u001b[1;31mRunning cells with 'Python 3.12.9' requires the ipykernel package.\n",
      "\u001b[1;31mInstall 'ipykernel' into the Python environment. \n",
      "\u001b[1;31mCommand: '/opt/homebrew/bin/python3.12 -m pip install ipykernel -U --user --force-reinstall'"
     ]
    }
   ],
   "source": [
    "# Import required libraries\n",
    "import requests\n",
    "import time\n",
    "import matplotlib.pyplot as plt\n",
    "import numpy as np\n",
    "\n",
    "# Configuration\n",
    "EC2_URL = \"http://35.88.188.73:8080/albums\"\n",
    "\n",
    "def load_test(url, duration_seconds=30):\n",
    "    response_times = []\n",
    "    start_time = time.time()\n",
    "    end_time = start_time + duration_seconds\n",
    "    \n",
    "    print(f\"Starting load test for {duration_seconds} seconds...\")\n",
    "    \n",
    "    while time.time() < end_time:\n",
    "        try:\n",
    "            start_request = time.time()\n",
    "            response = requests.get(url, timeout=10)\n",
    "            end_request = time.time()\n",
    "            \n",
    "            response_time = (end_request - start_request) * 1000  # Convert to milliseconds\n",
    "            response_times.append(response_time)\n",
    "            \n",
    "            if response.status_code == 200:\n",
    "                print(f\"Request {len(response_times)}: {response_time:.2f}ms\")\n",
    "            else:\n",
    "                print(f\"Request {len(response_times)}: Failed with status {response.status_code}\")\n",
    "                \n",
    "        except requests.exceptions.RequestException as e:\n",
    "            print(f\"Request failed: {e}\")\n",
    "            \n",
    "    return response_times\n",
    "\n",
    "# Run the load test\n",
    "response_times = load_test(EC2_URL, duration_seconds=10)\n",
    "\n",
    "# Plot the results\n",
    "plt.figure(figsize=(12, 8))\n",
    "\n",
    "# Histogram\n",
    "plt.subplot(2, 1, 1)\n",
    "plt.hist(response_times, bins=50, alpha=0.7, color='blue')\n",
    "plt.xlabel('Response Time (ms)')\n",
    "plt.ylabel('Frequency')\n",
    "plt.title('Distribution of Response Times')\n",
    "\n",
    "# Scatter plot over time\n",
    "plt.subplot(2, 1, 2)\n",
    "plt.scatter(range(len(response_times)), response_times, alpha=0.6)\n",
    "plt.xlabel('Request Number')\n",
    "plt.ylabel('Response Time (ms)')\n",
    "plt.title('Response Times Over Time')\n",
    "\n",
    "plt.tight_layout()\n",
    "plt.show()\n",
    "\n",
    "# Print statistics\n",
    "print(f\"\\nStatistics:\")\n",
    "print(f\"Total requests: {len(response_times)}\")\n",
    "print(f\"Average response time: {np.mean(response_times):.2f}ms\")\n",
    "print(f\"Median response time: {np.median(response_times):.2f}ms\")\n",
    "print(f\"95th percentile: {np.percentile(response_times, 95):.2f}ms\")\n",
    "print(f\"99th percentile: {np.percentile(response_times, 99):.2f}ms\")\n",
    "print(f\"Max response time: {max(response_times):.2f}ms\")"
   ]
  }
 ],
 "metadata": {
  "kernelspec": {
   "display_name": "Python 3",
   "language": "python",
   "name": "python3"
  },
  "language_info": {
   "name": "python",
   "version": "3.12.9"
  }
 },
 "nbformat": 4,
 "nbformat_minor": 5
}
